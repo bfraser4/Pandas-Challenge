{
 "cells": [
  {
   "cell_type": "markdown",
   "metadata": {},
   "source": [
    "# Written Analysis \n",
    "\n",
    "1) One trend that I noticed almost right away was that more money does not yield greater results. The table 'Scores by School Spending' does a great job in showcasing this, as the overall passing rate is the highest (90.64%) in the lowest spending category (< $585 per student).\n",
    "\n",
    "2) The data from 'Math/Reading Scores by Grade' shows that results across schools are fairly consistent, within a single percentage. From 9th to 12th grade, there is not any major fluctuation of results in math and reading scores. \n",
    "\n",
    "3) Charter schools tend to out perform District schools. Another reflection of more money per student does not yield greater results. Charter schools receive less money per student than District schools. "
   ]
  }
 ],
 "metadata": {
  "kernelspec": {
   "display_name": "Python 3.8.9 64-bit",
   "language": "python",
   "name": "python3"
  },
  "language_info": {
   "name": "python",
   "version": "3.8.9"
  },
  "orig_nbformat": 4,
  "vscode": {
   "interpreter": {
    "hash": "31f2aee4e71d21fbe5cf8b01ff0e069b9275f58929596ceb00d14d90e3e16cd6"
   }
  }
 },
 "nbformat": 4,
 "nbformat_minor": 2
}
